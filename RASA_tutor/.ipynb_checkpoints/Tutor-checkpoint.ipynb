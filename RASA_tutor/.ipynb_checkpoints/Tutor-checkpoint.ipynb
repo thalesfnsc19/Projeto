{
 "cells": [
  {
   "cell_type": "code",
   "execution_count": 1,
   "metadata": {},
   "outputs": [
    {
     "name": "stdout",
     "output_type": "stream",
     "text": [
      "Event loop ready.\n"
     ]
    }
   ],
   "source": [
    "#http://www.yamllint.com/\n",
    "#https://blog.rasa.com/designing-rasa-training-stories/\n",
    "#https://rasa.com/docs/rasa/core/interactive-learning/\n",
    "import nest_asyncio\n",
    "\n",
    "nest_asyncio.apply()\n",
    "print(\"Event loop ready.\")"
   ]
  },
  {
   "cell_type": "code",
   "execution_count": 2,
   "metadata": {},
   "outputs": [
    {
     "name": "stdout",
     "output_type": "stream",
     "text": [
      "config.yml data/ domain.yml models/\n"
     ]
    }
   ],
   "source": [
    "config = \"config.yml\"\n",
    "training_files = \"data/\"\n",
    "domain = \"domain.yml\"\n",
    "output = \"models/\"\n",
    "print(config, training_files, domain, output)"
   ]
  },
  {
   "cell_type": "code",
   "execution_count": 3,
   "metadata": {
    "scrolled": true
   },
   "outputs": [
    {
     "name": "stdout",
     "output_type": "stream",
     "text": [
      "\u001b[94mTraining Core model...\u001b[0m\n"
     ]
    },
    {
     "name": "stderr",
     "output_type": "stream",
     "text": [
      "Processed Story Blocks: 100%|██████████| 2/2 [00:00<00:00, 780.26it/s, # trackers=1]\n",
      "Processed Story Blocks: 100%|██████████| 2/2 [00:00<00:00, 685.96it/s, # trackers=2]\n",
      "Processed Story Blocks: 100%|██████████| 2/2 [00:00<00:00, 560.47it/s, # trackers=2]\n",
      "Processed Story Blocks: 100%|██████████| 2/2 [00:00<00:00, 679.13it/s, # trackers=2]\n",
      "Processed trackers: 100%|██████████| 2/2 [00:00<00:00, 180.74it/s, # actions=12]\n",
      "Processed actions: 12it [00:00, 1347.89it/s, # examples=12]\n",
      "Processed trackers: 100%|██████████| 18/18 [00:00<00:00, 106.07it/s, # actions=18]\n",
      "Epochs: 100%|██████████| 100/100 [00:03<00:00, 26.20it/s, t_loss=0.223, loss=0.160, acc=1.000] \n"
     ]
    },
    {
     "name": "stdout",
     "output_type": "stream",
     "text": [
      "\u001b[94mCore model training completed.\u001b[0m\n",
      "\u001b[94mNLU data/configuration did not change. No need to retrain NLU model.\u001b[0m\n",
      "\u001b[92mYour Rasa model is trained and saved at '/home/thales/test-project/models/20200425-134741.tar.gz'.\u001b[0m\n",
      "models/20200425-134741.tar.gz\n"
     ]
    }
   ],
   "source": [
    "import rasa\n",
    "\n",
    "model_path = rasa.train(domain, config, [training_files], output)\n",
    "print(model_path)"
   ]
  },
  {
   "cell_type": "code",
   "execution_count": 4,
   "metadata": {
    "scrolled": true
   },
   "outputs": [
    {
     "name": "stdout",
     "output_type": "stream",
     "text": [
      "WARNING:tensorflow:From /home/thales/miniconda3/lib/python3.7/site-packages/tensorflow_core/python/ops/array_grad.py:563: _EagerTensorBase.cpu (from tensorflow.python.framework.ops) is deprecated and will be removed in a future version.\n",
      "Instructions for updating:\n",
      "Use tf.identity instead.\n",
      "Your bot is ready to talk! Type your messages here or send '/stop'.\n",
      "oi \n",
      "\u001b[92mOlá , eu te farei algumas perguntas sobre o texto, ok ?\u001b[0m\n",
      "ok\n",
      "\u001b[92mQuantos personagens haviam na história?\u001b[0m\n",
      "quatro \n",
      "\u001b[92mMuito bem , ótima resposta\u001b[0m\n",
      "ok \n",
      "\u001b[92mQuantos personagens haviam na história?\u001b[0m\n",
      "dois \n",
      "\u001b[92mHm... quase , vou te ajudar a responder melhor\u001b[0m\n",
      "\u001b[92mHaviam três casa e também havia um lobo , logo , haviam quantos personagens ?\u001b[0m\n",
      "haviam quatro \n",
      "\u001b[92mExatamente!\u001b[0m\n",
      "\n",
      "\u001b[92mOlá , eu te farei algumas perguntas sobre o texto, ok ?\u001b[0m\n",
      "/stop\n"
     ]
    }
   ],
   "source": [
    "from rasa.jupyter import chat\n",
    "chat(model_path)"
   ]
  }
 ],
 "metadata": {
  "kernelspec": {
   "display_name": "Python 3",
   "language": "python",
   "name": "python3"
  },
  "language_info": {
   "codemirror_mode": {
    "name": "ipython",
    "version": 3
   },
   "file_extension": ".py",
   "mimetype": "text/x-python",
   "name": "python",
   "nbconvert_exporter": "python",
   "pygments_lexer": "ipython3",
   "version": "3.7.4"
  }
 },
 "nbformat": 4,
 "nbformat_minor": 2
}
